{
 "cells": [
  {
   "cell_type": "markdown",
   "metadata": {},
   "source": [
    "# Build simplest supercell"
   ]
  },
  {
   "cell_type": "code",
   "execution_count": 1,
   "metadata": {},
   "outputs": [
    {
     "data": {
      "text/plain": [
       "128"
      ]
     },
     "execution_count": 1,
     "metadata": {},
     "output_type": "execute_result"
    }
   ],
   "source": [
    "from ase.visualize import view\n",
    "from ase.io import write\n",
    "\n",
    "from VaspDefAnalysis.defect.builder import Supercell\n",
    "from VaspDefAnalysis.utils.path_save_output import SaveOutput \n",
    "\n",
    "# Save or not output\n",
    "SAVE = True\n",
    "\n",
    "# Where it is saved the super cell \n",
    "save = SaveOutput('outputs/supercell/hybrid_hse06')\n",
    "\n",
    "unit_cell_path = 'outputs/unitcell/structure_opt/POSCAR_hybrid_hse06'\n",
    "\n",
    "# Directions\n",
    "x_direction = 4\n",
    "y_direction = 4 \n",
    "z_direction = 2\n",
    "\n",
    "# Save in \n",
    "dir_name=f'supercell_{x_direction}x{y_direction}x{z_direction}'\n",
    "\n",
    "# Matrix trnslation\n",
    "matrix_translation = [[x_direction, 0, 0], [0, y_direction, 0], [0, 0, z_direction]]\n",
    "\n",
    "# Generte the supercell\n",
    "supercell = Supercell.get_supercell(structure = unit_cell_path, transformation_matrix = matrix_translation )\n",
    "\n",
    "if SAVE == True:\n",
    "    # Export supercell into vasp\n",
    "    name_save = 'supercell_'+ str(x_direction)+'x'+ str(y_direction)+'x'+ str(z_direction)+'.vasp'\n",
    "    Data_id = save.data_path(data_name=name_save,dir_name=dir_name)\n",
    "    \n",
    "    # Write the infomation of the super cell in a text\n",
    "    write(Data_id, supercell, vasp5=True, sort=True, direct=True)\n",
    "\n",
    "# Number of atomos\n",
    "supercell.get_global_number_of_atoms()"
   ]
  },
  {
   "cell_type": "markdown",
   "metadata": {},
   "source": [
    "# Find the index cental atoms and the neribors to this "
   ]
  },
  {
   "cell_type": "code",
   "execution_count": 7,
   "metadata": {},
   "outputs": [
    {
     "name": "stdout",
     "output_type": "stream",
     "text": [
      "{'index': 78, 'position': array([4.65492123, 4.47920004, 6.86268444]), 'symbol': 'N'}\n",
      "{'indexs': [45, 72, 77, 85], 'distances': [1.8853179080315023, 1.8979711905368788, 1.8853179085423546, 1.8853179080090048], 'posiitions': [array([3.10328082, 3.58336003, 7.44946067]), array([4.65492123, 4.47920004, 4.96471325]), array([6.20656163, 3.58336003, 7.44946067]), array([4.65492123, 6.27088005, 7.44946067])], 'symbols': ['Al', 'Al', 'Al', 'Al']}\n"
     ]
    }
   ],
   "source": [
    "from VaspDefAnalysis.utils.tool_pool import find_index_position_symbol_of_most_center_atom,find_indexs_positions_distances_symbols_inside_raduis\n",
    "\n",
    "# The most centest atoms infomation\n",
    "centest_atoms_inf =  find_index_position_symbol_of_most_center_atom(structure=supercell,species=\"N\")\n",
    "\n",
    "# Radius to consider surrounding neighbors of the defect (to select the first neighbor, it should be set slightly larger than the bonding length. For example, a radius of 2.0 Å for AlN, where the bonding length is approximately 1.87 Å).\n",
    "radius = 2.0    # Å \n",
    "\n",
    "# Neighbors infoamtion\n",
    "neighbors_inf = find_indexs_positions_distances_symbols_inside_raduis(structure=supercell,radius_centered_in_position=centest_atoms_inf[\"position\"],radius=radius)\n",
    "\n",
    "print(centest_atoms_inf)\n",
    "print(neighbors_inf)"
   ]
  },
  {
   "cell_type": "markdown",
   "metadata": {},
   "source": [
    "# Make defect "
   ]
  },
  {
   "cell_type": "markdown",
   "metadata": {},
   "source": [
    "## Vacancy"
   ]
  },
  {
   "cell_type": "code",
   "execution_count": 5,
   "metadata": {},
   "outputs": [
    {
     "name": "stdout",
     "output_type": "stream",
     "text": [
      "Vacancy: Al, in the position: [0.375      0.63317302 0.49951891]\n"
     ]
    }
   ],
   "source": [
    "from ase.visualize import view\n",
    "from ase import io, Atoms\n",
    "from ase.io import write, read\n",
    "\n",
    "from VaspDefAnalysis.defect.builder import Makedefect\n",
    "from defect.structure_comparator import StructureComparator\n",
    "\n",
    "# Save or not output\n",
    "SAVE =  True\n",
    "\n",
    "defect = Makedefect(structure = supercell)\n",
    "atom_inf = centest_atoms_inf \n",
    "vacancy_supercell = defect.make_vacancy(index = atom_inf[\"index\"])\n",
    "\n",
    "defect_analysis = StructureComparator(perfect_structure_file=supercell,defect_structure_file=vacancy_supercell,tolerance=1.0) \n",
    "\n",
    "defect_analysis.get_defect_information()\n",
    "\n",
    "view(vacancy_supercell)\n",
    "\n",
    "\n",
    "if SAVE == True:\n",
    "    # Export supercell into vasp\n",
    "    name_save = 'POSCAR-'+'V_'+atom_inf[\"symbol\"]+'.vasp'\n",
    "    save_data = save.data_path(data_name=name_save,dir_name=dir_name)\n",
    "    \n",
    "    # Write the infomation of the super cell in a text\n",
    "    write(save_data, vacancy_supercell, vasp5=True, sort=True, direct=True)"
   ]
  },
  {
   "cell_type": "markdown",
   "metadata": {},
   "source": [
    "# Substitutional"
   ]
  },
  {
   "cell_type": "code",
   "execution_count": 8,
   "metadata": {},
   "outputs": [
    {
     "name": "stdout",
     "output_type": "stream",
     "text": [
      "Substitution: N replaced by C, in the position: [0.375      0.63317302 0.69048109]\n"
     ]
    }
   ],
   "source": [
    "from ase.visualize import view\n",
    "from ase import io, Atoms\n",
    "from ase.io import write, read\n",
    "\n",
    "from VaspDefAnalysis.defect.builder import Makedefect\n",
    "from defect.structure_comparator import StructureComparator\n",
    "\n",
    "# Save or not output\n",
    "SAVE = True\n",
    "\n",
    "defect = Makedefect(structure = supercell)\n",
    "substitutional_element = \"C\"\n",
    "substitutional_defect = defect.make_substitutional(index = centest_atoms_inf[\"index\"], new_element=substitutional_element)\n",
    "\n",
    "defect_analysis = StructureComparator(perfect_structure_file=supercell,defect_structure_file=substitutional_defect,tolerance=1.0) \n",
    "\n",
    "defect_analysis.get_defect_information()\n",
    "\n",
    "view(substitutional_defect)\n",
    "\n",
    "if SAVE == True:\n",
    "    # Export supercell into vasp\n",
    "    \n",
    "    name_save = 'POSCAR-'+substitutional_element+'_'+centest_atoms_inf[\"symbol\"]+'.vasp'\n",
    "    save_data = save.data_path(data_name=name_save,dir_name=dir_name)\n",
    "    \n",
    "    # Write the infomation of the super cell in a text\n",
    "    write(save_data, substitutional_defect, vasp5=True, sort=True, direct=True)"
   ]
  },
  {
   "cell_type": "markdown",
   "metadata": {},
   "source": [
    "# Antisite"
   ]
  },
  {
   "cell_type": "code",
   "execution_count": 9,
   "metadata": {},
   "outputs": [
    {
     "name": "stdout",
     "output_type": "stream",
     "text": [
      "Complex:\n",
      "Substitutions:\n",
      "Al replaced by N at [0.25       0.4776709  0.74951891]\n",
      "N replaced by Al at [0.375      0.63317302 0.69048109]\n"
     ]
    }
   ],
   "source": [
    "from ase.visualize import view\n",
    "from ase import io, Atoms\n",
    "from ase.io import write, read\n",
    "\n",
    "from VaspDefAnalysis.defect.builder import Makedefect\n",
    "from defect.structure_comparator import StructureComparator\n",
    "\n",
    "# Save or not output\n",
    "SAVE = True\n",
    "\n",
    "\n",
    "defect = Makedefect(structure = supercell)\n",
    "antisite_defect = defect.make_antisite(index1 = centest_atoms_inf[\"index\"],index2 = neighbors_inf[\"indexs\"][0])\n",
    "\n",
    "defect_analysis = StructureComparator(perfect_structure_file=supercell,defect_structure_file=antisite_defect) \n",
    "\n",
    "defect_analysis.get_defect_information()\n",
    "\n",
    "view(antisite_defect)\n",
    "\n",
    "if SAVE == True:\n",
    "    # Export supercell into vasp\n",
    "    \n",
    "    name_save = 'POSCAR-'+centest_atoms_inf[\"symbol\"]+'_'+neighbors_inf[\"symbols\"][0]+'-'+neighbors_inf[\"symbols\"][0]+'_'+centest_atoms_inf[\"symbol\"]+'.vasp'\n",
    "    save_data = save.data_path(data_name=name_save,dir_name=dir_name)\n",
    "    \n",
    "    # Write the infomation of the super cell in a text\n",
    "    write(save_data, antisite_defect, vasp5=True, sort=True, direct=True)"
   ]
  },
  {
   "cell_type": "markdown",
   "metadata": {},
   "source": [
    "# Make dimero"
   ]
  },
  {
   "cell_type": "code",
   "execution_count": 11,
   "metadata": {},
   "outputs": [
    {
     "name": "stdout",
     "output_type": "stream",
     "text": [
      "Complex:\n",
      "Substitutions:\n",
      "Al replaced by C at [0.25       0.4776709  0.74951891]\n",
      "N replaced by C at [0.375      0.63317302 0.69048109]\n"
     ]
    }
   ],
   "source": [
    "from ase.visualize import view\n",
    "from ase import io, Atoms\n",
    "from ase.io import write, read\n",
    "\n",
    "from VaspDefAnalysis.defect.builder import Makedefect\n",
    "from defect.structure_comparator import StructureComparator\n",
    "\n",
    "# Save or not output\n",
    "SAVE = True\n",
    "\n",
    "\n",
    "defect = Makedefect(structure = supercell)\n",
    "substitutional_element = \"C\"\n",
    "dimero_defect = defect.make_dimero(index1=centest_atoms_inf[\"index\"],index2=neighbors_inf[\"indexs\"][0],element=substitutional_element)\n",
    "\n",
    "defect_analysis = StructureComparator(perfect_structure_file=supercell,\n",
    "                                 defect_structure_file=dimero_defect) \n",
    "\n",
    "defect_analysis.get_defect_information()\n",
    "\n",
    "view(dimero_defect)\n",
    "\n",
    "if SAVE == True:\n",
    "    # Export supercell into vasp\n",
    "    \n",
    "    name_save = 'POSCAR-'+substitutional_element+'_'+centest_atoms_inf[\"symbol\"]+'-'+substitutional_element+'_'+neighbors_inf[\"symbols\"][0]+'.vasp'\n",
    "    save_data = save.data_path(data_name=name_save,dir_name=dir_name)\n",
    "    \n",
    "    # Write the infomation of the super cell in a text\n",
    "    write(save_data, dimero_defect, vasp5=True, sort=True, direct=True)"
   ]
  },
  {
   "cell_type": "markdown",
   "metadata": {},
   "source": [
    "# Make divacancy"
   ]
  },
  {
   "cell_type": "code",
   "execution_count": 12,
   "metadata": {},
   "outputs": [
    {
     "name": "stdout",
     "output_type": "stream",
     "text": [
      "128\n",
      "Complex:\n",
      "Vacancies:\n",
      "Al at [0.25       0.4776709  0.74951891]\n",
      "N at [0.375      0.63317302 0.69048109]\n"
     ]
    }
   ],
   "source": [
    "from ase.visualize import view\n",
    "from ase import io, Atoms\n",
    "from ase.io import write, read\n",
    "\n",
    "from VaspDefAnalysis.defect.builder import Makedefect\n",
    "from defect.structure_comparator import StructureComparator\n",
    "\n",
    "# Save or not output\n",
    "SAVE =  True\n",
    "\n",
    "defect = Makedefect(structure = supercell)\n",
    "atom_inf1 = centest_atoms_inf\n",
    "atom_inf2 = neighbors_inf \n",
    "vacancy_supercell = defect.make_divacancy(index1 = atom_inf1[\"index\"],index2=atom_inf2[\"indexs\"][0])\n",
    "\n",
    "defect_analysis = StructureComparator(perfect_structure_file=supercell,defect_structure_file=vacancy_supercell,tolerance=1.0) \n",
    "\n",
    "defect_analysis.get_defect_information()\n",
    "\n",
    "view(vacancy_supercell)\n",
    "\n",
    "\n",
    "if SAVE == True:\n",
    "    # Export supercell into vasp\n",
    "    name_save = 'POSCAR-'+'V_'+atom_inf1[\"symbol\"]+\"-\"+'V_'+atom_inf2[\"symbols\"][0]+'.vasp'\n",
    "    save_data = save.data_path(data_name=name_save,dir_name=dir_name)\n",
    "    \n",
    "    # Write the infomation of the super cell in a text\n",
    "    write(save_data, vacancy_supercell, vasp5=True, sort=True, direct=True)"
   ]
  },
  {
   "cell_type": "code",
   "execution_count": 15,
   "metadata": {},
   "outputs": [
    {
     "name": "stdout",
     "output_type": "stream",
     "text": [
      "Cell([[10.0, 0.0, 0.0], [5.0, 10.0, 0.0], [0.0, 0.0, 10.0]])\n",
      "[[ 0.1   0.    0.  ]\n",
      " [-0.05  0.1   0.  ]\n",
      " [ 0.    0.    0.1 ]]\n",
      "Cartesian Coordinates: 1.9822008454665667\n",
      "Fractional Coordinates: 0.20932476120816346\n",
      "------------------------------\n",
      "Cartesian Coordinates: 1.9822008454665667\n"
     ]
    }
   ],
   "source": [
    "\n",
    "from ase import Atoms\n",
    "import numpy as np\n",
    "\n",
    "# Example: Create a structure with some atoms\n",
    "# Assume atoms is an ASE Atoms object with a defined cell and positions\n",
    "atoms = Atoms('H2O', positions=[[0, 0, 0], [1.345459585, 0, 1.45563], [1, 1, 4]], cell=[[10, 0, 0], [5 ,10, 0], [0, 0, 10]])\n",
    "\n",
    "# Get the Cartesian coordinates of an atom (e.g., the first atom)\n",
    "cartesian_coordinates = atoms.positions[1]\n",
    "\n",
    "print(atoms.cell)\n",
    "print(np.linalg.inv(atoms.cell))\n",
    "# Convert to fractional coordinates\n",
    "fractional_coordinates = np.dot(np.linalg.inv(atoms.cell), cartesian_coordinates)\n",
    "\n",
    "cartesian_coordinates_new = np.dot(atoms.cell, fractional_coordinates)\n",
    "\n",
    "print(f\"Cartesian Coordinates: {np.linalg.norm(cartesian_coordinates)}\")\n",
    "print(f\"Fractional Coordinates: {np.linalg.norm( fractional_coordinates)}\")\n",
    "print(\"------------------------------\")\n",
    "print(f\"Cartesian Coordinates: {np.linalg.norm(cartesian_coordinates_new)}\")"
   ]
  }
 ],
 "metadata": {
  "kernelspec": {
   "display_name": "venv",
   "language": "python",
   "name": "python3"
  },
  "language_info": {
   "codemirror_mode": {
    "name": "ipython",
    "version": 3
   },
   "file_extension": ".py",
   "mimetype": "text/x-python",
   "name": "python",
   "nbconvert_exporter": "python",
   "pygments_lexer": "ipython3",
   "version": "3.12.3"
  }
 },
 "nbformat": 4,
 "nbformat_minor": 2
}
